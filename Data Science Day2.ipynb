{
 "cells": [
  {
   "cell_type": "code",
   "execution_count": 1,
   "id": "d2194ce0-a02f-422f-93a0-54df518dd172",
   "metadata": {},
   "outputs": [],
   "source": [
    "a=10"
   ]
  },
  {
   "cell_type": "code",
   "execution_count": 2,
   "id": "e1302b7b-a1ee-4730-8e52-ff4afd03f8b1",
   "metadata": {},
   "outputs": [],
   "source": [
    "a='c'"
   ]
  },
  {
   "cell_type": "code",
   "execution_count": 3,
   "id": "c0fc8298-0b2b-44f9-96a3-4554f9fd9dae",
   "metadata": {},
   "outputs": [
    {
     "data": {
      "text/plain": [
       "str"
      ]
     },
     "execution_count": 3,
     "metadata": {},
     "output_type": "execute_result"
    }
   ],
   "source": [
    "type(a)"
   ]
  },
  {
   "cell_type": "code",
   "execution_count": 4,
   "id": "8a5c21ea-c804-4243-9e67-f8fcbc956107",
   "metadata": {},
   "outputs": [
    {
     "data": {
      "text/plain": [
       "0"
      ]
     },
     "execution_count": 4,
     "metadata": {},
     "output_type": "execute_result"
    }
   ],
   "source": [
    "int()"
   ]
  },
  {
   "cell_type": "code",
   "execution_count": 5,
   "id": "4bb20ca6-9209-4039-ac9f-cac8fb65e362",
   "metadata": {},
   "outputs": [
    {
     "data": {
      "text/plain": [
       "123"
      ]
     },
     "execution_count": 5,
     "metadata": {},
     "output_type": "execute_result"
    }
   ],
   "source": [
    "int('123')"
   ]
  },
  {
   "cell_type": "code",
   "execution_count": 6,
   "id": "ef406967-c5f0-45c5-91e3-6601d4077ce7",
   "metadata": {},
   "outputs": [
    {
     "ename": "ValueError",
     "evalue": "invalid literal for int() with base 10: 'abcd'",
     "output_type": "error",
     "traceback": [
      "\u001b[0;31m---------------------------------------------------------------------------\u001b[0m",
      "\u001b[0;31mValueError\u001b[0m                                Traceback (most recent call last)",
      "Cell \u001b[0;32mIn[6], line 1\u001b[0m\n\u001b[0;32m----> 1\u001b[0m \u001b[38;5;28;43mint\u001b[39;49m\u001b[43m(\u001b[49m\u001b[38;5;124;43m'\u001b[39;49m\u001b[38;5;124;43mabcd\u001b[39;49m\u001b[38;5;124;43m'\u001b[39;49m\u001b[43m)\u001b[49m\n",
      "\u001b[0;31mValueError\u001b[0m: invalid literal for int() with base 10: 'abcd'"
     ]
    }
   ],
   "source": [
    "int('abcd')"
   ]
  },
  {
   "cell_type": "code",
   "execution_count": 7,
   "id": "7df983a5-65ef-4c00-ae48-6abf09557773",
   "metadata": {},
   "outputs": [
    {
     "name": "stdout",
     "output_type": "stream",
     "text": [
      "Hello World\n"
     ]
    }
   ],
   "source": [
    "print(\"Hello World\")"
   ]
  },
  {
   "cell_type": "code",
   "execution_count": 8,
   "id": "8eb553d8-a53d-4e01-8329-b9b4f6bcfc56",
   "metadata": {},
   "outputs": [
    {
     "name": "stdout",
     "output_type": "stream",
     "text": [
      "123\n"
     ]
    }
   ],
   "source": [
    "print(123)"
   ]
  },
  {
   "cell_type": "code",
   "execution_count": 12,
   "id": "eaabd8b5-c93b-4986-a6f2-a506c37422ea",
   "metadata": {},
   "outputs": [
    {
     "name": "stdout",
     "output_type": "stream",
     "text": [
      "My age is: 31\n"
     ]
    }
   ],
   "source": [
    "age=31\n",
    "print(\"My age is:\",age)"
   ]
  },
  {
   "cell_type": "code",
   "execution_count": 13,
   "id": "5ba51f8b-7b5e-43d0-a0c6-a9d34f9f2adc",
   "metadata": {},
   "outputs": [
    {
     "name": "stdout",
     "output_type": "stream",
     "text": [
      "My age is: {age}\n"
     ]
    }
   ],
   "source": [
    "print(\"My age is: {age}\")"
   ]
  },
  {
   "cell_type": "code",
   "execution_count": 14,
   "id": "21261fd7-d0e2-4a25-9816-c1c7d6c62840",
   "metadata": {},
   "outputs": [
    {
     "name": "stdout",
     "output_type": "stream",
     "text": [
      "My age is: 31\n"
     ]
    }
   ],
   "source": [
    "print(f\"My age is: {age}\")"
   ]
  },
  {
   "cell_type": "code",
   "execution_count": 15,
   "id": "74876089-e734-4de4-b327-3e150cdf7383",
   "metadata": {},
   "outputs": [],
   "source": [
    "## f string is formatting"
   ]
  },
  {
   "cell_type": "code",
   "execution_count": 17,
   "id": "bbedb741-3c31-4d8b-aef3-ccb8104ed213",
   "metadata": {},
   "outputs": [
    {
     "name": "stdout",
     "output_type": "stream",
     "text": [
      "My name is Ahmed and age is 31\n"
     ]
    }
   ],
   "source": [
    "##format() way\n",
    "name=\"Ahmed\"\n",
    "age=31\n",
    "print(\"My name is {} and age is {}\".format(name,age))"
   ]
  },
  {
   "cell_type": "code",
   "execution_count": 20,
   "id": "508caa36-ea3a-4b7a-bbba-6d3e007167d4",
   "metadata": {},
   "outputs": [
    {
     "name": "stdout",
     "output_type": "stream",
     "text": [
      "My name is 31 and age is Ahmed\n"
     ]
    }
   ],
   "source": [
    "print(\"My name is {} and age is {}\".format(age,name))"
   ]
  },
  {
   "cell_type": "code",
   "execution_count": 22,
   "id": "3dc4ea32-8cb2-4f4c-b86b-67489c90fdde",
   "metadata": {},
   "outputs": [
    {
     "name": "stdout",
     "output_type": "stream",
     "text": [
      "My name is Ahmed and age is 31\n"
     ]
    }
   ],
   "source": [
    "## Place holder\n",
    "print(\"My name is {firstname} and age is {firstage}\".format(firstname=name,firstage=age))"
   ]
  },
  {
   "cell_type": "code",
   "execution_count": 23,
   "id": "3c9f2c60-69ea-4099-aa8c-8fa99ce07e73",
   "metadata": {},
   "outputs": [
    {
     "name": "stdout",
     "output_type": "stream",
     "text": [
      "My name is Ahmed and age is 31\n"
     ]
    }
   ],
   "source": [
    "## Place holder\n",
    "print(\"My name is {firstname} and age is {firstage}\".format(firstage=age,firstname=name))"
   ]
  },
  {
   "cell_type": "code",
   "execution_count": 25,
   "id": "ffc8b871-e97e-4106-ac21-b26c9fa0c3c9",
   "metadata": {},
   "outputs": [
    {
     "name": "stdout",
     "output_type": "stream",
     "text": [
      "My age is 31 and I have completed: my degree of B.A with the name of Ahmed Azam\n"
     ]
    }
   ],
   "source": [
    "name='Ahmed Azam'\n",
    "age=31\n",
    "degree='B.A'\n",
    "print(\"My age is {} and I have completed: my degree of {} with the name of {}\".format(age,degree,name))"
   ]
  },
  {
   "cell_type": "code",
   "execution_count": 26,
   "id": "c18d3e54-6dba-4efd-80c5-d213b1106da0",
   "metadata": {},
   "outputs": [
    {
     "name": "stdout",
     "output_type": "stream",
     "text": [
      "My age is 31 and I have completed: my degree of B.A with the name of Ahmed Azam\n"
     ]
    }
   ],
   "source": [
    "print(f\"My age is {age} and I have completed: my degree of {degree} with the name of {name}\")"
   ]
  },
  {
   "cell_type": "markdown",
   "id": "7932e82a-b624-434e-8b34-5f7301b1325b",
   "metadata": {},
   "source": [
    "##control flow"
   ]
  },
  {
   "cell_type": "markdown",
   "id": "38efc3fa-1ba7-4ccd-8892-094e6ad4806d",
   "metadata": {},
   "source": [
    "Control Flow\n",
    "Decison making statements"
   ]
  },
  {
   "cell_type": "code",
   "execution_count": 34,
   "id": "fc51cd0f-553f-48be-bf84-5faa94906fc8",
   "metadata": {},
   "outputs": [
    {
     "name": "stdout",
     "output_type": "stream",
     "text": [
      "You are eligible to vote\n"
     ]
    }
   ],
   "source": [
    "##if statements\n",
    "age=18\n",
    "if age>=18:\n",
    "    print(\"You are eligible to vote\")"
   ]
  },
  {
   "cell_type": "code",
   "execution_count": 33,
   "id": "05cf97c1-17f1-4853-9ada-be457560341c",
   "metadata": {},
   "outputs": [],
   "source": [
    "age=17\n",
    "if age>=18:\n",
    "    print(\"You are eligible to vote\")"
   ]
  },
  {
   "cell_type": "code",
   "execution_count": 35,
   "id": "5a3bbe98-c70d-47da-88a2-c7bc2924a98d",
   "metadata": {},
   "outputs": [
    {
     "name": "stdin",
     "output_type": "stream",
     "text": [
      " Ahmed Azam\n"
     ]
    },
    {
     "data": {
      "text/plain": [
       "'Ahmed Azam'"
      ]
     },
     "execution_count": 35,
     "metadata": {},
     "output_type": "execute_result"
    }
   ],
   "source": [
    "input()"
   ]
  },
  {
   "cell_type": "code",
   "execution_count": 36,
   "id": "9531ed8d-f4e1-4c8c-8e7c-4888e764c147",
   "metadata": {},
   "outputs": [
    {
     "name": "stdin",
     "output_type": "stream",
     "text": [
      "Enter the name Ahmed Azam Lari\n"
     ]
    }
   ],
   "source": [
    "name=input(\"Enter the name\")"
   ]
  },
  {
   "cell_type": "code",
   "execution_count": 37,
   "id": "d854d2c1-0d93-472f-b2a0-0d8ac42c4f37",
   "metadata": {},
   "outputs": [
    {
     "data": {
      "text/plain": [
       "'Ahmed Azam Lari'"
      ]
     },
     "execution_count": 37,
     "metadata": {},
     "output_type": "execute_result"
    }
   ],
   "source": [
    "name"
   ]
  },
  {
   "cell_type": "code",
   "execution_count": 38,
   "id": "4e06d391-ee47-4aba-bcd9-ae036e652dd2",
   "metadata": {},
   "outputs": [
    {
     "name": "stdin",
     "output_type": "stream",
     "text": [
      "Enter Your Age 31\n"
     ]
    }
   ],
   "source": [
    "age=int(input(\"Enter Your Age\"))"
   ]
  },
  {
   "cell_type": "code",
   "execution_count": 39,
   "id": "475d6948-f65e-4d6e-8262-ca603e901e80",
   "metadata": {},
   "outputs": [
    {
     "data": {
      "text/plain": [
       "31"
      ]
     },
     "execution_count": 39,
     "metadata": {},
     "output_type": "execute_result"
    }
   ],
   "source": [
    "age"
   ]
  },
  {
   "cell_type": "code",
   "execution_count": null,
   "id": "d8f97477-004b-4e81-bbf5-922b7d37f027",
   "metadata": {},
   "outputs": [],
   "source": [
    "## task 1\n",
    "## Take input of age\n",
    "##check whether age >=18 or <=45\n",
    "## display a msg 'You are young blood '"
   ]
  },
  {
   "cell_type": "code",
   "execution_count": 50,
   "id": "646059f9-9c06-4961-814c-7a77b0c6385b",
   "metadata": {},
   "outputs": [
    {
     "name": "stdin",
     "output_type": "stream",
     "text": [
      "Enter Your Name Ahmed\n",
      "Enter Your Age 46\n"
     ]
    }
   ],
   "source": [
    "name=input(\"Enter Your Name\")\n",
    "age=int(input(\"Enter Your Age\"))\n",
    "if age>=18 and age<=45:\n",
    "    print(\"You are Young Blood Boy\")"
   ]
  },
  {
   "cell_type": "code",
   "execution_count": null,
   "id": "723e0a7b-447e-44f8-aac9-e60e8ed31f91",
   "metadata": {},
   "outputs": [],
   "source": [
    "##if else statement"
   ]
  },
  {
   "cell_type": "code",
   "execution_count": 51,
   "id": "64e6d308-1cb3-4531-a855-bd433fa42dcc",
   "metadata": {},
   "outputs": [
    {
     "name": "stdin",
     "output_type": "stream",
     "text": [
      "Enter Your Name Ahmed\n",
      "Enter Your Age 46\n"
     ]
    },
    {
     "name": "stdout",
     "output_type": "stream",
     "text": [
      "You are an Old Chap\n"
     ]
    }
   ],
   "source": [
    "name=input(\"Enter Your Name\")\n",
    "age=int(input(\"Enter Your Age\"))\n",
    "if age>=18 and age<=45:\n",
    "    print(\"You are Young Blood Boy\")\n",
    "else:\n",
    "    print(\"You are an Old Chap\")"
   ]
  },
  {
   "cell_type": "code",
   "execution_count": 52,
   "id": "5c990e57-abbd-4a9d-91e1-570bd03cc157",
   "metadata": {},
   "outputs": [],
   "source": [
    "## a/c bal is Rs. 10000\n",
    "## money > 100000\n",
    "## to buy a product> you'll get a dic of 20%\n",
    "##product<=1000 10% off\n"
   ]
  },
  {
   "cell_type": "code",
   "execution_count": 67,
   "id": "9de57be3-fa51-45ef-ad21-2a253164f2e6",
   "metadata": {},
   "outputs": [
    {
     "name": "stdin",
     "output_type": "stream",
     "text": [
      "Enter Your Name Ahmed\n",
      "Enter The Price 800\n"
     ]
    },
    {
     "name": "stdout",
     "output_type": "stream",
     "text": [
      "Congrats You're getting a discount of 10%\n",
      "Price is 720.0\n"
     ]
    }
   ],
   "source": [
    "name=input(\"Enter Your Name\")\n",
    "price=int(input(\"Enter The Price\"))\n",
    "if price>1000:\n",
    "    print(\"Congrats You're getting a discount of 20%\")\n",
    "    print('Price is {}'.format(price*0.8))\n",
    "else:\n",
    "    print(\"Congrats You're getting a discount of 10%\")\n",
    "    print('Price is {}'.format(price*0.9))"
   ]
  },
  {
   "cell_type": "code",
   "execution_count": 68,
   "id": "321657c2-387e-4aa1-ae2e-df12387c3744",
   "metadata": {},
   "outputs": [
    {
     "name": "stdin",
     "output_type": "stream",
     "text": [
      "Enter Your Name Ahmed\n",
      "Enter The Price 1500\n"
     ]
    },
    {
     "name": "stdout",
     "output_type": "stream",
     "text": [
      "Congrats You're getting a discount of 20%\n",
      "Price is 1200.0\n"
     ]
    }
   ],
   "source": [
    "name=input(\"Enter Your Name\")\n",
    "price=int(input(\"Enter The Price\"))\n",
    "if price>1000:\n",
    "    print(\"Congrats You're getting a discount of 20%\")\n",
    "    print('Price is {}'.format(price*0.8))\n",
    "else:\n",
    "    print(\"Congrats You're getting a discount of 10%\")\n",
    "    print('Price is {}'.format(price*0.9))"
   ]
  },
  {
   "cell_type": "code",
   "execution_count": 71,
   "id": "6b7fdbf3-5dad-4f62-90a1-2d102f744c35",
   "metadata": {},
   "outputs": [
    {
     "name": "stdin",
     "output_type": "stream",
     "text": [
      "Enter The Product Name Teddy Bear\n",
      "Enter The Price 5000\n"
     ]
    },
    {
     "name": "stdout",
     "output_type": "stream",
     "text": [
      "Congrats You're getting a discount of 20%\n",
      "Price is 4000.0\n"
     ]
    }
   ],
   "source": [
    "productname=input(\"Enter The Product Name\")\n",
    "price=int(input(\"Enter The Price\"))\n",
    "if price>3000:\n",
    "    print(\"Congrats You're getting a discount of 20%\")\n",
    "    print(f'Price is {(price*0.8)}')\n",
    "else:\n",
    "    print(\"Congrats You're getting a discount of 10%\")\n",
    "    print('Price is {}'.format(price*0.9))"
   ]
  },
  {
   "cell_type": "code",
   "execution_count": 81,
   "id": "9b59ee4b-fc0a-4e63-b434-feed8b9b9934",
   "metadata": {},
   "outputs": [
    {
     "name": "stdin",
     "output_type": "stream",
     "text": [
      "Enter The Product Name Teddy Bear\n",
      "Enter The Price 7999\n"
     ]
    },
    {
     "name": "stdout",
     "output_type": "stream",
     "text": [
      "Congrats You're getting a discount of 50%\n",
      "Price is 3999.5\n",
      "You'll get a new suitecase\n"
     ]
    }
   ],
   "source": [
    "productname=input(\"Enter The Product Name\")\n",
    "price=int(input(\"Enter The Price\"))\n",
    "if price<3000 and price>1000:\n",
    "    print(\"Congrats You're getting a discount of 20%\")\n",
    "    print(f'Price is {(price*0.8)}')\n",
    "elif price>=3000 and price<=6000:\n",
    "    print(\"Congrats You're getting a discount of 30%\")\n",
    "    print(f'Price is {(price*0.7)}')\n",
    "elif price>6000 and price<7000:\n",
    "    print(\"Congrats You're getting a discount of 40%\")\n",
    "    print(f'Price is {(price*0.6)}')\n",
    "elif price==7999:\n",
    "    print(\"Congrats You're getting a discount of 50%\")\n",
    "    print(f'Price is {(price*0.5)}')\n",
    "    print(\"You'll get a new suitecase\")\n",
    "else:\n",
    "    print(\"Congrats You're getting a discount of 10%\")\n",
    "    print('Price is {}'.format(price*0.9))"
   ]
  },
  {
   "cell_type": "code",
   "execution_count": 83,
   "id": "60ae2709-5a72-4b8c-a1f6-d3c172dddccf",
   "metadata": {},
   "outputs": [
    {
     "name": "stdin",
     "output_type": "stream",
     "text": [
      "Enter the number 1000\n"
     ]
    },
    {
     "name": "stdout",
     "output_type": "stream",
     "text": [
      "Go home\n"
     ]
    }
   ],
   "source": [
    "## Single statements\n",
    "val=int(input(\"Enter the number\"))\n",
    "if(val<=999):print(\"Value is less than equal to 999\")\n",
    "else:\n",
    "    print('Go home')"
   ]
  },
  {
   "cell_type": "code",
   "execution_count": null,
   "id": "f1399089-c473-40c0-a7cb-8aa20b95988d",
   "metadata": {},
   "outputs": [],
   "source": []
  }
 ],
 "metadata": {
  "kernelspec": {
   "display_name": "Python 3 (ipykernel)",
   "language": "python",
   "name": "python3"
  },
  "language_info": {
   "codemirror_mode": {
    "name": "ipython",
    "version": 3
   },
   "file_extension": ".py",
   "mimetype": "text/x-python",
   "name": "python",
   "nbconvert_exporter": "python",
   "pygments_lexer": "ipython3",
   "version": "3.10.8"
  }
 },
 "nbformat": 4,
 "nbformat_minor": 5
}
